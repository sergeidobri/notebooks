{
 "cells": [
  {
   "cell_type": "markdown",
   "metadata": {},
   "source": [
    "# Web-scrapping\n",
    "\n",
    "Иногда нужно получить данные из интернета. Это можно сделать через API или напрямую с сайта. Получение информации напрямую с сайта - это web scrapping. \n",
    "\n",
    "Инструменты для скраппинга:\n",
    "\n",
    "1. Developer Tools в браузере;\n",
    "2. Requests;\n",
    "3. Beautiful Soup;\n",
    "4. Requests-html;\n",
    "5. Selenium.\n",
    "\n",
    "В примере ниже видно в заголовках запроса, что сайт знает о нас, как о приложении, написанном на Python. Чтобы это обхитрить, можно использовать fake_headers:"
   ]
  },
  {
   "cell_type": "code",
   "execution_count": 2,
   "metadata": {},
   "outputs": [
    {
     "name": "stdout",
     "output_type": "stream",
     "text": [
      "{'User-Agent': 'python-requests/2.32.3', 'Accept-Encoding': 'gzip, deflate', 'Accept': '*/*', 'Connection': 'keep-alive'}\n",
      "{'User-Agent': 'Mozilla/5.0 (X11; Linux i686; rv:67.0.2) Gecko/20100101 Firefox/67.0.2', 'Accept-Encoding': 'gzip, deflate', 'Accept': '*/*', 'Connection': 'keep-alive'}\n",
      "37.18.93.10\n"
     ]
    }
   ],
   "source": [
    "# pip install requests\n",
    "# pip install beautifulsoup4\n",
    "# pip install lxml\n",
    "# pip install fake_headers\n",
    "\n",
    "import re\n",
    "import requests\n",
    "from fake_headers import Headers\n",
    "\n",
    "response = requests.get(\"https://2ip.ru/\")\n",
    "print(response.request.headers)\n",
    "\n",
    "headers = Headers(browser='firefox', os='linux').generate()\n",
    "response = requests.get(\"https://2ip.ru/\", headers=headers)\n",
    "print(response.request.headers)\n",
    "\n",
    "addr_template = re.search(r'<div class=\"ip\" id=\"d_clip_button\".*?</div>', response.text, re.DOTALL).group()\n",
    "addr = re.search(r'<span>.*?</span>', addr_template).group()\n",
    "ip_address = addr.strip('</span>')\n",
    "\n",
    "print(ip_address)"
   ]
  },
  {
   "cell_type": "markdown",
   "metadata": {},
   "source": [
    "## Про BeautifulSoup\n",
    "\n",
    "У объекта BeautifulSoup есть аттрибут text. Этот аттрибут хранит в себе текст узла без тэгов\n",
    "\n",
    "Важно, что элемент BeautifulSoup также содержит и аттрибуты тега. Получить их можно по ключу ['<имя аттрибута>']\n",
    "\n",
    "Методы:\n",
    "\n",
    "* find (<назв. тэга>, <через именованные переменные или attrs уточняем остальное>) - ищет узел с указанным тэгом и если уточнено, с таким то классом, таким то селектором и тд. Возвращает элемент soup attrs - это словарик с аттрибутами. Пример: attrs={'class':'id'}\n",
    "* find_all (<назв. тэга>, <через именованные переменные или attrs уточняем остальное>) - ищет все узлы с указанным тэгом и если уточнено, с таким то классом, таким то селектором и тд. Возвращает список attrs - это словарик с аттрибутами. Пример: attrs={'class':'id'}\n",
    "* select_one (<css селектор>) - возвращает первый элемент html с соответствующим css селектором\n",
    "* select (<css селектор>) - возвращает все элементы html с соответствующим css селектором."
   ]
  },
  {
   "cell_type": "code",
   "execution_count": 3,
   "metadata": {},
   "outputs": [
    {
     "name": "stdout",
     "output_type": "stream",
     "text": [
      "37.18.93.10\n"
     ]
    }
   ],
   "source": [
    "import bs4\n",
    "\n",
    "soup = bs4.BeautifulSoup(response.text, features='lxml')\n",
    "div_tag = soup.find('div', attrs={'class':'ip'})\n",
    "span_tag = div_tag.find('span')\n",
    "print(span_tag.text)"
   ]
  },
  {
   "cell_type": "code",
   "execution_count": 1,
   "metadata": {},
   "outputs": [],
   "source": [
    "import bs4\n",
    "import json\n",
    "import requests\n",
    "from pprint import pprint\n",
    "\n",
    "response = requests.get(\"https://dtf.ru/games\")\n",
    "soup = bs4.BeautifulSoup(response.text, features='lxml')\n",
    "\n",
    "article_list = soup.select_one('div.content-list')\n",
    "articles = soup.select('div.content--short')\n",
    "\n",
    "parsed_data = []\n",
    "\n",
    "for article in articles:\n",
    "    link = 'https://dtf.ru' + article.select_one('a.content__link')['href']\n",
    "    article_response = requests.get(link)\n",
    "    article_soup = bs4.BeautifulSoup(article_response.text, features='lxml')\n",
    "\n",
    "    title = article_soup.select_one('h1.content-title').text.strip()\n",
    "    content = article_soup.select_one('article.content__blocks').text.replace('\\\"', '\\'')\n",
    "    date = article_soup.select_one('div.content-header-details__inner').\\\n",
    "        select_one('a.noshrink').\\\n",
    "        select_one('time')['title']\n",
    "    \n",
    "    parsed_data.append({\n",
    "        'link': link,\n",
    "        'title': title,\n",
    "        'content': content,\n",
    "        'date': date\n",
    "    })\n",
    "    \n",
    "\n",
    "with open('data.json', 'w', encoding='utf-8') as file:\n",
    "    json.dump(parsed_data, file, ensure_ascii=False, indent=4)\n"
   ]
  },
  {
   "cell_type": "markdown",
   "metadata": {},
   "source": [
    "## Про Selenium\n",
    "\n",
    "Это библиотека, которая позволяет работать с драйвером браузера. Для корректной и удобной работы с этой библиотекой, необходим менеджер драйверов: webdriver-manager\n",
    "\n",
    "При получении странички есть одна проблема. Не все элементы прогружаются моментально, и есть шанс, что в момент запроса у сайта некоторого элемента, сайт может пока не знать о нем (он еще не прогрузится к тому моменту). Поэтому можно воспользоваться функцией wait_element() написанной автором. Она дожидается элемента и возвращает его.\n",
    "\n",
    "* find_element - найти первый попавшийся такой элемент;\n",
    "* find_elements - найти все такие элементы.\n",
    "\n",
    "В возвращаемом элементе мы можем продолжать искать, что захотим\n",
    "\n",
    "С помощью Selenium можно устроить интерактив с веб-страницей:\n",
    "\n",
    "* click() - кликает;\n",
    "* send_keys() - посылает либо строку, либо клавишу. (клавиши в Keys импорт из selenium.webdriver)"
   ]
  },
  {
   "cell_type": "code",
   "execution_count": 2,
   "metadata": {},
   "outputs": [
    {
     "ename": "KeyboardInterrupt",
     "evalue": "",
     "output_type": "error",
     "traceback": [
      "\u001b[0;31m---------------------------------------------------------------------------\u001b[0m",
      "\u001b[0;31mKeyboardInterrupt\u001b[0m                         Traceback (most recent call last)",
      "Cell \u001b[0;32mIn[2], line 14\u001b[0m\n\u001b[1;32m     10\u001b[0m driver \u001b[38;5;241m=\u001b[39m webdriver\u001b[38;5;241m.\u001b[39mChrome(service\u001b[38;5;241m=\u001b[39mService(ChromeDriverManager()\u001b[38;5;241m.\u001b[39minstall()), options\u001b[38;5;241m=\u001b[39moptions)\n\u001b[1;32m     13\u001b[0m driver\u001b[38;5;241m.\u001b[39mget(\u001b[38;5;124m\"\u001b[39m\u001b[38;5;124mhttps://dtf.ru/games\u001b[39m\u001b[38;5;124m\"\u001b[39m)\n\u001b[0;32m---> 14\u001b[0m \u001b[43mtime\u001b[49m\u001b[38;5;241;43m.\u001b[39;49m\u001b[43msleep\u001b[49m\u001b[43m(\u001b[49m\u001b[38;5;241;43m2\u001b[39;49m\u001b[43m)\u001b[49m\n\u001b[1;32m     18\u001b[0m driver\u001b[38;5;241m.\u001b[39mclose()\n",
      "\u001b[0;31mKeyboardInterrupt\u001b[0m: "
     ]
    }
   ],
   "source": [
    "# почему-то код не работает. См. прикрепленный файл selenium_test.py\n",
    "\n",
    "import json\n",
    "import time\n",
    "from selenium.common import TimeoutException\n",
    "from selenium import webdriver\n",
    "from selenium.webdriver.support.wait import WebDriverWait\n",
    "from selenium.webdriver.support import expected_conditions\n",
    "from selenium.webdriver.chrome.options import Options\n",
    "from selenium.webdriver.chrome.service import Service\n",
    "from webdriver_manager.chrome import ChromeDriverManager\n",
    "from selenium.webdriver.common.by import By\n",
    "\n",
    "options = Options()\n",
    "# options.add_argument('--headless')\n",
    "options.add_argument('--no-sandbox')\n",
    "options.add_argument('--disable-dev-shm-usage')\n",
    "driver = webdriver.Chrome(service=Service(ChromeDriverManager().install()), options=options)\n",
    "\n",
    "def wait_element(browser, delay=3, by=By.TAG_NAME, value=None):\n",
    "    try: \n",
    "        return WebDriverWait(browser, delay).until(\n",
    "            expected_conditions.presence_of_element_located((by, value))\n",
    "        )\n",
    "    except TimeoutException:\n",
    "        return None\n",
    "\n",
    "driver.get(\"https://dtf.ru/games\")\n",
    "time.sleep(1)\n",
    "\n",
    "articles = driver.find_elements(by=By.CSS_SELECTOR, value='div.content--short')\n",
    "links = []\n",
    "for article in articles:\n",
    "    link = wait_element(browser=article, by=By.CSS_SELECTOR, value='a.content__link').get_attribute('href')\n",
    "    links.append(link)\n",
    "\n",
    "data = []\n",
    "for link in links:\n",
    "    driver.get(link)\n",
    "    title = wait_element(browser=driver, by=By.CSS_SELECTOR, value='h1.content-title').text\n",
    "    content = wait_element(browser=driver, by=By.CSS_SELECTOR, value='article.content__blocks').text.replace('\\\"', '\\'')\n",
    "    date = wait_element(browser=driver, by=By.TAG_NAME, value='time').get_attribute('title')\n",
    "    data.append({\n",
    "        'link': link,\n",
    "        'title': title,\n",
    "        'content': content,\n",
    "        'date': date\n",
    "    })\n",
    "    \n",
    "with open('data_selenium.json', 'w', encoding='utf-8') as file:\n",
    "    json.dump(data, file, ensure_ascii=False, indent=4)\n",
    "\n",
    "driver.close()"
   ]
  },
  {
   "cell_type": "code",
   "execution_count": null,
   "metadata": {},
   "outputs": [],
   "source": [
    "import json\n",
    "import time\n",
    "from selenium.common import TimeoutException\n",
    "from selenium import webdriver\n",
    "from selenium.webdriver.support.wait import WebDriverWait\n",
    "from selenium.webdriver.support import expected_conditions\n",
    "from selenium.webdriver.chrome.options import Options\n",
    "from selenium.webdriver.chrome.service import Service\n",
    "from webdriver_manager.chrome import ChromeDriverManager\n",
    "from selenium.webdriver.common.by import By\n",
    "\n",
    "options = Options()\n",
    "# options.add_argument('--headless')\n",
    "options.add_argument('--no-sandbox')\n",
    "options.add_argument('--disable-dev-shm-usage')\n",
    "options.add_argument('--fullscreen')\n",
    "driver = webdriver.Chrome(service=Service(ChromeDriverManager().install()), options=options)\n",
    "\n",
    "def wait_element(browser, delay=3, by=By.TAG_NAME, value=None):\n",
    "    try: \n",
    "        return WebDriverWait(browser, delay).until(\n",
    "            expected_conditions.presence_of_element_located((by, value))\n",
    "        )\n",
    "    except TimeoutException:\n",
    "        return None\n",
    "\n",
    "driver.maximize_window()\n",
    "driver.get(\"https://dtf.ru/games\")\n",
    "time.sleep(1)\n",
    "\n",
    "search_button = wait_element(driver, by=By.CSS_SELECTOR, value='button.search__button')\n",
    "search_button.click()  # нажатие на кнопку\n",
    "time.sleep(1)\n",
    "search_input = wait_element(driver, by=By.CSS_SELECTOR, value='input.text-input')\n",
    "search_input.send_keys('папич')\n",
    "time.sleep(1)\n",
    "\n",
    "driver.close()\n"
   ]
  }
 ],
 "metadata": {
  "kernelspec": {
   "display_name": ".jupyter_venv",
   "language": "python",
   "name": "python3"
  },
  "language_info": {
   "codemirror_mode": {
    "name": "ipython",
    "version": 3
   },
   "file_extension": ".py",
   "mimetype": "text/x-python",
   "name": "python",
   "nbconvert_exporter": "python",
   "pygments_lexer": "ipython3",
   "version": "3.12.3"
  }
 },
 "nbformat": 4,
 "nbformat_minor": 2
}
