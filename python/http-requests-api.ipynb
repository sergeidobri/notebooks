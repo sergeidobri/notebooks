{
 "cells": [
  {
   "cell_type": "markdown",
   "metadata": {},
   "source": [
    "# Работа с библиотекой requests, http запросы"
   ]
  },
  {
   "cell_type": "markdown",
   "metadata": {
    "vscode": {
     "languageId": "bat"
    }
   },
   "source": [
    "![image.png](../static/http_server_client_communication.png)"
   ]
  },
  {
   "cell_type": "markdown",
   "metadata": {},
   "source": [
    "Перед тем как сделать запрос, нужно знать следующее:\n",
    "* адрес ресурса, к которому хотим обратиться (URL (uniform resource locator), URI (uniform resource identificator)). Просто URL адрес\n",
    "* метод, который используем \n",
    "* какие данные передавать и в каком виде их передавать.\n",
    "\n",
    "### URL\n",
    "   \n",
    "https/http - это протоколы (s - secured)\n",
    "www.dns-shop.ru - это сервер (хост, домен)\n",
    "/search/ - путь (path)\n",
    "?q=1234&category=17a6 - это параметры (query string, params)\n"
   ]
  },
  {
   "cell_type": "markdown",
   "metadata": {},
   "source": [
    "### Методы"
   ]
  },
  {
   "cell_type": "markdown",
   "metadata": {},
   "source": [
    "![image.png](../static/http_methods.png)"
   ]
  },
  {
   "cell_type": "markdown",
   "metadata": {},
   "source": [
    "### Как передаем данные?"
   ]
  },
  {
   "cell_type": "markdown",
   "metadata": {},
   "source": [
    "* query string (params)\n",
    "* Заголовки (headers)\n",
    "* Тело запроса (body)"
   ]
  },
  {
   "cell_type": "markdown",
   "metadata": {},
   "source": [
    "### Как выглядит запрос?"
   ]
  },
  {
   "cell_type": "markdown",
   "metadata": {},
   "source": [
    "![image.png](../static/example_of_post_request.png)"
   ]
  },
  {
   "cell_type": "markdown",
   "metadata": {},
   "source": [
    "### Как выглядит ответ?"
   ]
  },
  {
   "cell_type": "markdown",
   "metadata": {},
   "source": [
    "<код ответа> <текстовая расшифровка> <протокол>\n",
    "```raw\n",
    "200 OK HTTP/1.1\n",
    "Server: nginx\n",
    "Content-Type: application/json\n",
    "Content-Length: 120\n",
    "\n",
    "{\n",
    "    \"status\": 200,\n",
    "    \"msg\": \"OK\"\n",
    "}\n",
    "```\n",
    "![image.png](../static/http_status_codes.png)"
   ]
  },
  {
   "cell_type": "markdown",
   "metadata": {},
   "source": [
    "### Пишем собственный API для банка"
   ]
  },
  {
   "cell_type": "markdown",
   "metadata": {},
   "source": [
    "host: mybank.com"
   ]
  },
  {
   "cell_type": "markdown",
   "metadata": {},
   "source": [
    "1) Регистрация\n",
    "```markdown\n",
    "POST /registration\n",
    "host: mybank.com\n",
    "Content-Type: application/json\n",
    "Content-Length: 120\n",
    "\n",
    "{\n",
    "    \"login\": \"timur\",\n",
    "    \"password\": \"12345\"\n",
    "}\n",
    "\n",
    "\n",
    "200 OK HTTP/1.1\n",
    "Content-Type: application/json\n",
    "Content-Length: 120\n",
    "\n",
    "{\n",
    "    \"registrated\": \"success\",\n",
    "    \"id\": \"12ed231r31f3\"\n",
    "}\n",
    "```"
   ]
  },
  {
   "cell_type": "markdown",
   "metadata": {},
   "source": [
    "2. Авторизация\n",
    "```markdown\n",
    "POST /login\n",
    "host: mybank.com\n",
    "Content-Type: application/json\n",
    "Content-Length: 120\n",
    "\n",
    "{\n",
    "    \"login\": \"timur\",\n",
    "    \"password\": \"12345\"\n",
    "}\n",
    "\n",
    "\n",
    "200 OK HTTP/1.1\n",
    "Content-Type: application/json\n",
    "Content-Length: 120\n",
    "\n",
    "{\n",
    "    \"msg\": \"authorizated\"\n",
    "}\n",
    "```"
   ]
  },
  {
   "cell_type": "markdown",
   "metadata": {},
   "source": [
    "3. Запрос счетов пользователя\n",
    "```markdown\n",
    "GET /accounts\n",
    "host: mybank.com\n",
    "Cookie: g444235445432hj5jkhjkh5jk2h35jkh23j\n",
    "\n",
    "\n",
    "200 OK HTTP/1.1\n",
    "Content-Type: application/json\n",
    "Content-Length: 120\n",
    "\n",
    "{\n",
    "    {\n",
    "        \"id\": \"ug34hu324\",\n",
    "        \"name\": \"зарплатный\",\n",
    "        \"amount\": 10000,\n",
    "    }\n",
    "}\n",
    "```"
   ]
  },
  {
   "cell_type": "markdown",
   "metadata": {},
   "source": [
    "4. Получить информацию о конкретном счете\n",
    "```markdown\n",
    "GET /accounts/ug34hu324\n",
    "host: mybank.com\n",
    "Cookie: g444235445432hj5jkhjkh5jk2h35jkh23j\n",
    "\n",
    "\n",
    "200 OK HTTP/1.1\n",
    "Content-Type: application/json\n",
    "Content-Length: 120\n",
    "\n",
    "{\n",
    "    {\n",
    "        \"id\": \"ug34hu324\",\n",
    "        \"name\": \"зарплатный\",\n",
    "        \"amount\": 10000,\n",
    "        \"history\": [\n",
    "            {\n",
    "                \"id\": \"sddsad\",\n",
    "                ...\n",
    "            }\n",
    "        ]\n",
    "    }\n",
    "}\n",
    "```"
   ]
  },
  {
   "cell_type": "markdown",
   "metadata": {},
   "source": [
    "5. Изменить данные счета\n",
    "```markdown\n",
    "PUT /accounts/ug34hu324\n",
    "host: mybank.com\n",
    "Cookie: g444235445432hj5jkhjkh5jk2h35jkh23j\n",
    "Content-Type: application/json\n",
    "Content-Length: 120\n",
    "\n",
    "{\n",
    "    \"name\": \"На отдых на Бали\",\n",
    "}\n",
    "\n",
    "\n",
    "\n",
    "200 OK HTTP/1.1\n",
    "Content-Type: application/json\n",
    "Content-Length: 120\n",
    "\n",
    "{\n",
    "    {\n",
    "        \"id\": \"ug34hu324\",\n",
    "        \"name\": \"На отдых на Бали\",\n",
    "        \"amount\": 10000,\n",
    "        \"history\": [\n",
    "            {\n",
    "                \"id\": \"sddsad\",\n",
    "                ...\n",
    "            }\n",
    "        ]\n",
    "    }\n",
    "}\n",
    "```"
   ]
  },
  {
   "cell_type": "markdown",
   "metadata": {},
   "source": [
    "JSON - считаются сырыми запросами\n",
    "\n",
    "![image.png](../static/postman_example.png)"
   ]
  },
  {
   "cell_type": "code",
   "execution_count": 1,
   "metadata": {},
   "outputs": [],
   "source": [
    "import requests\n",
    "import json\n",
    "\n",
    "from pprint import pprint"
   ]
  },
  {
   "cell_type": "code",
   "execution_count": null,
   "metadata": {},
   "outputs": [],
   "source": [
    "# 0. скачиваем страницу сайта\n",
    "\n",
    "url = 'https://ru.wikipedia.org/wiki/HTTP'\n",
    "response = requests.get(url)  # методом get мы получаем объект ответа (Response)\n",
    "\n",
    "print(response, type(response))  # Responce [200] - успех\n",
    "print(response.status_code)  # у этого объекта есть аттрибуты: статус ответа\n",
    "print(response.headers)  # технические данные при передаче ответа\n",
    "print(response.text)  # текстовый ответ, который интерпретируется в соответствии с header-ом Content-Type\n",
    "print(response.content)  # байтовый массив из содержимого. Обычно будет использоваться при получении картинки и тд"
   ]
  },
  {
   "cell_type": "code",
   "execution_count": null,
   "metadata": {},
   "outputs": [],
   "source": [
    "# 0. заполним анкету\n",
    "\n",
    "url = 'https://functions.yandexcloud.net/d4e8qsrmeednndemfsus'\n",
    "payload = {\n",
    "    \"name\": \"тимур\",\n",
    "    \"surname\": \"тимур\",\n",
    "    \"patronymic\": \"Отсутствует\",\n",
    "    \"telephone\": \"+7(214)124-12-41\",\n",
    "    \"birthdate\": \"124214-03-12\",\n",
    "    \"passport\": \"1241 24214345\"\n",
    "}\n",
    "headers = {\n",
    "    'Content-Type': 'application/json'\n",
    "}\n",
    "\n",
    "response = requests.post(  # отправляем на сервер методом POST данные анкеты.\n",
    "    url,\n",
    "    headers=headers,\n",
    "    data=json.dumps(payload)  # данные мы отправляем в виде текстового словаря, то бишь json.\n",
    ")\n",
    "# response = requests.post(\n",
    "#     url,\n",
    "#     json=payload  # можно прям напрямую прописать json и тогда в строку переводить не надо, причем Content-Type будет так же излишен\n",
    "# )\n",
    "print(response.status_code)  \n",
    "print(response.text)"
   ]
  },
  {
   "cell_type": "markdown",
   "metadata": {},
   "source": [
    "### Нужно сходить на сервер наса и узнать информацию о картинке дня. Скачать на компьютер картинку дня. На яндекс-диске создать папку для хранения картинок. Загрузить картинку в папку на яндекс-диск"
   ]
  },
  {
   "cell_type": "code",
   "execution_count": null,
   "metadata": {},
   "outputs": [],
   "source": [
    "# 1 Нужно сходить на сервер наса и узнать информацию о картинке дня\n",
    "url = 'https://api.nasa.gov/planetary/apod'\n",
    "params = {\n",
    "    'api_key': 'xJShRlgIycmholreQyElmr64zyTjFwM51UQf2Ee4',\n",
    "}\n",
    "\n",
    "response = requests.get(url, params=params)  # с помощью GET запроса получаем объект ответа.\n",
    "print(response.json())\n",
    "image_link = response.json()['url']\n",
    "filename = image_link.split('/')[-1]  # получаем имя из URL\n",
    "pathfile = f'images/{filename}'  # создаем маршрут на основе filename\n"
   ]
  },
  {
   "cell_type": "code",
   "execution_count": 5,
   "metadata": {},
   "outputs": [],
   "source": [
    "# 2. скачать на компьютер картинку дня\n",
    "response = requests.get(image_link)  # по маршруту получаем картинку\n",
    "with open(pathfile, 'wb') as f:  # открываем файл на запись, бинарно\n",
    "    f.write(response.content)  # записываем поток байтов из объекта ответа\n",
    "    "
   ]
  },
  {
   "cell_type": "code",
   "execution_count": 9,
   "metadata": {},
   "outputs": [],
   "source": [
    "# 3. на яндекс-диске создать папку для хранения картинок\n",
    "url = 'https://cloud-api.yandex.net/v1/disk/resources'\n",
    "params = {\n",
    "    'path': '/Image'  # в параметрах path указываем папку, и она автоматически создается\n",
    "}\n",
    "headers = {\n",
    "    'Authorization': 'OAuth y0_AgAEA7qki-4XAADLWwAAAAETjMneAAArhE2XzepHEJdshpKJb-P6Ay8whQ'  # используем токен OAuth\n",
    "}\n",
    "\n",
    "response = requests.put(url, params=params, headers=headers)  # методом PUT создаем папку на яндекс диске\n",
    "\n"
   ]
  },
  {
   "cell_type": "code",
   "execution_count": null,
   "metadata": {},
   "outputs": [],
   "source": [
    "# 4 загрузить картинку в папку на яндекс-диск\n",
    "url = 'https://cloud-api.yandex.net/v1/disk/resources/upload'\n",
    "params = {\n",
    "    'path': f'/Image/{filename}'\n",
    "}\n",
    "\n",
    "response = requests.get(url, params=params, headers=headers)\n",
    "print(response.json())\n",
    "upload_link = response.json()['href']\n",
    "\n",
    "with open(pathfile, 'rb') as f:\n",
    "    response = requests.put(upload_link, files={'file': f})\n",
    "    print(response.status_code)"
   ]
  },
  {
   "cell_type": "markdown",
   "metadata": {},
   "source": [
    "## Домашнее задание."
   ]
  },
  {
   "cell_type": "markdown",
   "metadata": {},
   "source": [
    "### Задание 1."
   ]
  },
  {
   "cell_type": "code",
   "execution_count": null,
   "metadata": {},
   "outputs": [],
   "source": [
    "import requests\n",
    "\n",
    "\n",
    "def get_the_smartest_superhero() -> str:\n",
    "    superheroes_dict = {\n",
    "        'Hulk': 0, \n",
    "        'Captain America': 0, \n",
    "        'Thanos': 0\n",
    "        }\n",
    "    url = 'https://akabab.github.io/superhero-api/api/all.json'\n",
    "    cnt = 0\n",
    "    response = requests.get(url)\n",
    "    \n",
    "    superheroes_stats = response.json()\n",
    "    for suspect in superheroes_stats:\n",
    "        if suspect['name'] in superheroes_dict.keys():\n",
    "            superheroes_dict[suspect['name']] = suspect['powerstats']['intelligence']\n",
    "            cnt += 1\n",
    "        if cnt == 3:\n",
    "            break\n",
    "    \n",
    "    the_smartest_superhero = max(superheroes_dict, key=superheroes_dict.get)\n",
    "    return the_smartest_superhero\n",
    "\n",
    "if __name__ == '__main__':\n",
    "    print(get_the_smartest_superhero())\n"
   ]
  },
  {
   "cell_type": "markdown",
   "metadata": {},
   "source": [
    "### Задание 2."
   ]
  },
  {
   "cell_type": "code",
   "execution_count": null,
   "metadata": {},
   "outputs": [],
   "source": [
    "import requests\n",
    "\n",
    "def get_the_smartest_superhero(superheros):\n",
    "    the_smartest_superhero = ''\n",
    "    highest_intelligence = -1e6\n",
    "    for superhero_id in superheros:\n",
    "        url = f'https://akabab.github.io/superhero-api/api/id/{superhero_id}.json'\n",
    "        response = requests.get(url)\n",
    "        hero = response.json()\n",
    "        intelligence = hero['powerstats']['intelligence']\n",
    "        if intelligence > highest_intelligence:\n",
    "            highest_intelligence = intelligence\n",
    "            the_smartest_superhero = hero['name']\n",
    "        if highest_intelligence == 100:\n",
    "            break\n",
    "\n",
    "    return the_smartest_superhero\n",
    "\n",
    "if __name__ == '__main__':\n",
    "   print(get_the_smartest_superhero([1, 2, 3]))"
   ]
  },
  {
   "cell_type": "markdown",
   "metadata": {},
   "source": [
    "dict.1.1.20241007T173226Z.7131069845c9a355.cb36eae0057d95b6e9d8f48bfcfd35e4b0efa4be"
   ]
  },
  {
   "cell_type": "code",
   "execution_count": null,
   "metadata": {},
   "outputs": [],
   "source": [
    "url = 'https://dictionary.yandex.net/api/v1/dicservice.json/lookup'\n",
    "params = {\n",
    "    'key': 'dict.1.1.20241007T173226Z.7131069845c9a355.cb36eae0057d95b6e9d8f48bfcfd35e4b0efa4be',\n",
    "    'lang': 'ru-en',\n",
    "    'text': 'Палец',\n",
    "}\n",
    "\n",
    "response = requests.get(url, params=params)\n",
    "tr_json = response.json()\n",
    "for definition in tr_json['def']:\n",
    "    for translation in definition['tr']:\n",
    "        translate = translation['text']\n",
    "        break\n",
    "\n",
    "print(translate)"
   ]
  },
  {
   "cell_type": "code",
   "execution_count": null,
   "metadata": {},
   "outputs": [],
   "source": [
    "uk_cities = [\n",
    "    'Leeds', \n",
    "    'London', \n",
    "    'Liverpool', \n",
    "    'Manchester', \n",
    "    'Oxford', \n",
    "    'Edinburgh', \n",
    "    'Norwich', \n",
    "    'York',\n",
    "]\n",
    "\n",
    "def find_uk_city(coordinates: list[tuple]) -> str:\n",
    "    api_key = '67041e0688bb6429153282yfs5454da'\n",
    "    url = 'https://geocode.maps.co/reverse'\n",
    "    for latitude, longitude in coordinates:\n",
    "        params = {\n",
    "            'lat': latitude,\n",
    "            'lon': longitude,\n",
    "            'api_key': api_key,\n",
    "        }\n",
    "        response = requests.get(url, params=params)\n",
    "        city_name = response.json()['address']['city']\n",
    "        if city_name in uk_cities:\n",
    "            return city_name\n",
    "\n",
    "\n",
    "lst = [\n",
    "        ('55.7514952', '37.618153095505875'),\n",
    "        ('52.3727598', '4.8936041'),\n",
    "        ('53.4071991', '-2.99168')\n",
    "    ]\n",
    "find_uk_city(lst)\n"
   ]
  },
  {
   "cell_type": "code",
   "execution_count": null,
   "metadata": {},
   "outputs": [],
   "source": [
    "response = requests.get('https://netology.ru/')"
   ]
  },
  {
   "cell_type": "code",
   "execution_count": null,
   "metadata": {},
   "outputs": [],
   "source": []
  },
  {
   "cell_type": "code",
   "execution_count": 143,
   "metadata": {},
   "outputs": [],
   "source": [
    "from datetime import datetime\n",
    "\n",
    "\n",
    "def get_city_coordinates(name: str, country: str) -> tuple[float]:\n",
    "    url_coordinates = 'https://geocode.maps.co/search'\n",
    "    api_key_coordinates = '67041e0688bb6429153282yfs5454da'\n",
    "    params_coords = {\n",
    "        'q': name,\n",
    "        'api_key': api_key_coordinates,\n",
    "    }\n",
    "\n",
    "    target_address = None\n",
    "    resp_coords = requests.get(url_coordinates, params=params_coords)\n",
    "    addresses_list = resp_coords.json()\n",
    "    for address in addresses_list:\n",
    "        address_parts = address['display_name'].split(', ')\n",
    "        curr_city_name, curr_country_name = address_parts[0], address_parts[-1]\n",
    "        if curr_city_name == name and curr_country_name == country:\n",
    "            target_address = address\n",
    "            break\n",
    "\n",
    "    longitude, latitude = target_address['lon'], target_address['lat']\n",
    "    return latitude, longitude\n",
    "\n",
    "def create_weather_file(lat: float, lon: float, name: str, country: str, name_of_folder: str) -> None:\n",
    "    url_weather = 'https://api.openweathermap.org/data/2.5/weather'\n",
    "    api_key_weather = 'a37a6bc48f87226456ae4dd44f16075a'\n",
    "    params_weather = {\n",
    "        'lat': lat,\n",
    "        'lon': lon,\n",
    "        'appid': api_key_weather,\n",
    "    }\n",
    "    resp_weather = requests.get(url_weather, params=params_weather).json()\n",
    "    main_weather = resp_weather['weather'][0]['main']\n",
    "    temperature = resp_weather['main']['temp'] - 273  # Kelvin\n",
    "    feels_like_temp = resp_weather['main']['feels_like'] - 273  # Kelvin\n",
    "    pressure = resp_weather['main']['pressure']\n",
    "    humidity = resp_weather['main']['humidity']\n",
    "    wind_speed = resp_weather['wind']['speed']\n",
    "    date, time = str(datetime.fromtimestamp(resp_weather['dt'])).split()\n",
    "    time = time.replace(':', '-')\n",
    "    with open(f'weather/{date}_{time}.txt', 'w') as f:\n",
    "        f.write(f'Time: {time}\\nDate: {date}\\nCity: {name}\\nCountry\\\n",
    ": {country}\\nMain weather: {main_weather}\\nTemperature (Celsius):\\\n",
    " {temperature:.2f}\\nFeels like: {feels_like_temp:.2f}\\nPressure:\\\n",
    " {pressure}\\nHumidity: {humidity}\\nWind speed: {wind_speed}')\n",
    "    \n",
    "    url_upload = 'https://cloud-api.yandex.net/v1/disk/resources/upload'\n",
    "    params_upload = {\n",
    "        'path': f'{name_of_folder}/{date}_{time}.txt',\n",
    "        'overwrite': True,\n",
    "    }\n",
    "    headers_upload = {\n",
    "        'Authorization': 'OAuth y0_AgAEA7qki-4XAADLWwAAAAETjMneAAArhE2XzepHEJdshpKJb-P6Ay8whQ'\n",
    "    }\n",
    "    resp_upload = requests.get(url_upload, params=params_upload, headers=headers_upload)\n",
    "    upload_link = resp_upload.json()['href']\n",
    "    with open(f'weather/{date}_{time}.txt') as f:\n",
    "        requests.put(upload_link, files={'file': f})\n",
    "\n",
    "def create_folder(name_of_folder: str) -> None:\n",
    "    url_create_folder = 'https://cloud-api.yandex.net/v1/disk/resources'\n",
    "    params_create_folder = {\n",
    "        'path': f'{name_of_folder}/',\n",
    "    }\n",
    "    headers_create_folder = {\n",
    "        'Authorization': 'OAuth y0_AgAEA7qki-4XAADLWwAAAAETjMneAAArhE2XzepHEJdshpKJb-P6Ay8whQ'\n",
    "    }\n",
    "    requests.put(url_create_folder, params=params_create_folder, headers=headers_create_folder)\n",
    "\n",
    "\n",
    "if __name__ == '__main__':\n",
    "    city_name = 'Moscow'\n",
    "    country_name = 'Russia' \n",
    "    name_of_folder = 'Weather'\n",
    "    city_lat, city_lon = get_city_coordinates(city_name, country_name)\n",
    "    create_folder(name_of_folder)\n",
    "    create_weather_file(city_lat, city_lon, city_name, country_name, name_of_folder)"
   ]
  },
  {
   "cell_type": "markdown",
   "metadata": {},
   "source": [
    "# API"
   ]
  },
  {
   "cell_type": "markdown",
   "metadata": {},
   "source": [
    "![image.png](../static/api_is_used_for.png)"
   ]
  },
  {
   "cell_type": "markdown",
   "metadata": {},
   "source": [
    "![image.png](../static/api.png)"
   ]
  },
  {
   "cell_type": "markdown",
   "metadata": {},
   "source": [
    "![image.png](../static/web_api.png)"
   ]
  },
  {
   "cell_type": "markdown",
   "metadata": {},
   "source": [
    "![image.png](../static/authentication_and_authorization.png)"
   ]
  },
  {
   "cell_type": "markdown",
   "metadata": {},
   "source": [
    "![image.png](../static/OAuth.png)"
   ]
  },
  {
   "cell_type": "code",
   "execution_count": 2,
   "metadata": {},
   "outputs": [
    {
     "name": "stdout",
     "output_type": "stream",
     "text": [
      "{'response': [{'id': 432636773, 'first_name': 'Надежда', 'last_name': 'Берегова', 'can_access_closed': True, 'is_closed': False}]}\n"
     ]
    }
   ],
   "source": [
    "import requests\n",
    "\n",
    "\n",
    "class VK:\n",
    "\n",
    "    def __init__(self, access_token, user_id, version='5.199'):\n",
    "        self.token = access_token\n",
    "        self.id = user_id\n",
    "        self.version = version\n",
    "        self.params = {'access_token': self.token, 'v': self.version}\n",
    "\n",
    "    def users_info(self):\n",
    "        url = 'https://api.vk.com/method/users.get'\n",
    "        params = {'user_ids': self.id}\n",
    "        response = requests.get(url, params={**self.params, **params})\n",
    "        return response.json()\n",
    "    \n",
    "\n",
    "access_token = 'vk1.a.9zWMFIVWmzbzGyCVJLT9VW8wDh3C95sZx1cIVSXAZ6qwv7UyMPmgviYPDwUTgF51pi3IMcZKjuY5Dw1u97WpcE9KZ30y4_uU1-d4tfzgPBXWP95a6WkFYMhH95pXek0IWN2QzqcNW-dc6NUhQ6FAagnd91344za1hYU02WK6N1p-6wdQQEYozZxxqgAtAah8'\n",
    "user_id = '432636773'\n",
    "vk = VK(access_token, user_id)\n",
    "\n",
    "print(vk.users_info())"
   ]
  },
  {
   "cell_type": "markdown",
   "metadata": {},
   "source": [
    "### На самом деле принцип работы с API должен сильно напоминать нам работу с классами в Python. Они тоже имеют методы, которые выполняют понятные действия, абстрогируясь от приципов их выполнения. Реализуем работу с API через классы. То есть API над API"
   ]
  },
  {
   "cell_type": "code",
   "execution_count": 7,
   "metadata": {},
   "outputs": [
    {
     "name": "stdout",
     "output_type": "stream",
     "text": [
      "{'response': {'text': 'Hello, World!'}}\n"
     ]
    }
   ],
   "source": [
    "import requests\n",
    "\n",
    "\n",
    "TOKEN = 'vk1.a.3uTlkm3u0XeBWTv3pEZxH7rkCh6FtYETOeAZFpnkjAa9dpTKOz4oHCixPB1GcZPMi4UZ2ltEbbt3JWycg9r5rJE2fWKNucwBPO3h_2O-1zQeNs59Swxea53BsAMzlnG5Hj02nPZn7olVzCSCoLL3tKVSQA2aUixmI5h-Dxuf-0NPmezuIKadWju8w9wgNO9X-_ckpiTqgFjQm_2JYzC6nA'\n",
    "\n",
    "class VKAPIClient:\n",
    "    API_BASE_URL = 'https://api.vk.com/method'\n",
    "    \n",
    "    def __init__(self, token, user_id):\n",
    "        self.token = token\n",
    "        self.user_id = user_id\n",
    "\n",
    "    def get_common_params(self):\n",
    "        return {\n",
    "            'access_token': self.token,\n",
    "            'v': '5.199',\n",
    "        }\n",
    "\n",
    "    def get_status(self):\n",
    "        params = {\n",
    "            'access_token': self.token,\n",
    "            'v': '5.199',\n",
    "            'user_id': self.user_id,\n",
    "        }\n",
    "        response = requests.get('https://api.vk.com/method/status.get', params=params)\n",
    "        return response.json()\n",
    "\n",
    "\n",
    "if __name__ == '__main__':\n",
    "    vk_client = VKAPIClient(TOKEN, 272774264)\n",
    "    print(vk_client.get_status())"
   ]
  },
  {
   "cell_type": "markdown",
   "metadata": {},
   "source": [
    "![image.png](../static/what_is_oauth_used_for.png)"
   ]
  },
  {
   "cell_type": "markdown",
   "metadata": {},
   "source": [
    "```markdown\n",
    "https://teletype.in/@pythontalk/requirements\n",
    "https://docs-python.ru/standart-library/modul-venv-python/\n",
    "https://teletype.in/@pythontalk/tqdm_progressbars\n",
    "https://habr.com/ru/articles/485236/\n",
    "https://habr.com/ru/companies/wunderfund/articles/683880/\n",
    "```"
   ]
  }
 ],
 "metadata": {
  "kernelspec": {
   "display_name": "Python 3",
   "language": "python",
   "name": "python3"
  },
  "language_info": {
   "codemirror_mode": {
    "name": "ipython",
    "version": 3
   },
   "file_extension": ".py",
   "mimetype": "text/x-python",
   "name": "python",
   "nbconvert_exporter": "python",
   "pygments_lexer": "ipython3",
   "version": "3.11.8"
  }
 },
 "nbformat": 4,
 "nbformat_minor": 2
}
