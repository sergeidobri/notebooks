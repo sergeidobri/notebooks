{
 "cells": [
  {
   "cell_type": "markdown",
   "metadata": {},
   "source": [
    "# Разработка тестов\n",
    "\n",
    "Для разработки тестов рассмотрим две библиотеки: unittest и pytest"
   ]
  },
  {
   "cell_type": "markdown",
   "metadata": {},
   "source": [
    "# Про unittest\n",
    "\n",
    "Создаем папку с названием tests, файл со словом test. \n",
    "\n",
    "Основа тестов этой библиотеки - это класс TestCase, от которого будут наследоваться все тесты. Каждый тест - это метод класса, унаследованного от TestCase. \n",
    "\n",
    "Для выполнения тела теста (проверки корректности получаемых данных и выполняемых программой действий) существуют различные методы, определенные в TestCase: self.assertEqual, self.assertIs и так далее. \n",
    "\n",
    "Каждый функционал нужно выносить в отдельный тест. \n",
    "\n",
    "Также некоторые тесты можно пропустить ввиду некоторых причин, для этого существует декоратор @unittest.skip(), в которой можно указать причину скипа. \n",
    "\n",
    "Также можно проводить тест на провал: @unittest.expectedFailure.\n",
    "\n",
    "Также здесь же можно задавать параметризованные тесты с помощью подтестов: with self.subTest(i), где i - номер подтеста."
   ]
  },
  {
   "cell_type": "code",
   "execution_count": null,
   "metadata": {},
   "outputs": [],
   "source": [
    "def summarize(x, y):\n",
    "    if x == 0:\n",
    "        return 0\n",
    "    if x == 1:\n",
    "        raise ValueError(\"1 - is not allowed\")\n",
    "    return x + y"
   ]
  },
  {
   "cell_type": "code",
   "execution_count": 1,
   "metadata": {},
   "outputs": [
    {
     "name": "stderr",
     "output_type": "stream",
     "text": [
      "usage: ipykernel_launcher.py [-h] [-v] [-q] [--locals] [--durations N] [-f]\n",
      "                             [-c] [-b] [-k TESTNAMEPATTERNS]\n",
      "                             [tests ...]\n",
      "ipykernel_launcher.py: error: argument -f/--failfast: ignored explicit argument '/home/sergeidobri/.local/share/jupyter/runtime/kernel-v31176c054a0fc221cfaf71bcb9c4deb67d875d10b.json'\n"
     ]
    },
    {
     "ename": "SystemExit",
     "evalue": "2",
     "output_type": "error",
     "traceback": [
      "An exception has occurred, use %tb to see the full traceback.\n",
      "\u001b[0;31mSystemExit\u001b[0m\u001b[0;31m:\u001b[0m 2\n"
     ]
    },
    {
     "name": "stderr",
     "output_type": "stream",
     "text": [
      "/home/sergeidobri/Desktop/computer-science/python_tests/.jupyter_venv/lib/python3.12/site-packages/IPython/core/interactiveshell.py:3585: UserWarning: To exit: use 'exit', 'quit', or Ctrl-D.\n",
      "  warn(\"To exit: use 'exit', 'quit', or Ctrl-D.\", stacklevel=1)\n"
     ]
    }
   ],
   "source": [
    "import unittest\n",
    "from unittest import TestCase\n",
    "from main import summarize\n",
    "\n",
    "class TestMain(TestCase):\n",
    "    def test_summarize_1(self):\n",
    "        a = 5\n",
    "        b = 10\n",
    "        expected = 15\n",
    "\n",
    "        result = summarize(a, b)\n",
    "\n",
    "        self.assertEqual(expected, result)\n",
    "\n",
    "    @unittest.skip(\"Пока не доработан\")\n",
    "    def test_summarize_2(self):\n",
    "        a = 0\n",
    "        b = 10\n",
    "        expected = 0\n",
    "\n",
    "        result = summarize(a, b)\n",
    "\n",
    "        self.assertEqual(expected, result)\n",
    "\n",
    "    @unittest.expectedFailure\n",
    "    def test_summarize_3(self):\n",
    "        a = 1\n",
    "        b = 10\n",
    "\n",
    "        self.assertRaises(ValueError, summarize, a, b)\n",
    "\n",
    "    def test_with_params(self):\n",
    "        for i, (a, b, expected) in enumerate(\n",
    "            [\n",
    "                (1, 2, 3),\n",
    "                (2, 4, 6),\n",
    "                (-2, -5, -7)\n",
    "            ]\n",
    "        ):\n",
    "            with self.subTest(i):\n",
    "                self.assertEqual(summarize(a, b), expected)"
   ]
  },
  {
   "cell_type": "markdown",
   "metadata": {},
   "source": [
    "### Для запуска теста:\n",
    "\n",
    "```markdown\n",
    "python3 -m unittest tests.py\n",
    "```"
   ]
  },
  {
   "cell_type": "markdown",
   "metadata": {},
   "source": [
    "Существует метод setUp(self), который выполняется каждый раз перед выполнением теста. Метод tearDown(self) запускается после каждого теста. tearDownClass(cls) - после выполнения всех методов класса."
   ]
  },
  {
   "cell_type": "markdown",
   "metadata": {},
   "source": [
    "# Про pytest\n",
    "\n",
    "```markdown\n",
    "pip install pytest\n",
    "```\n",
    "\n",
    "Запуск тестов:\n",
    "```markdown\n",
    "python3 -m pytest\n",
    "```\n",
    "Пайтесту не нужны тестовые классы. Также пайтест считает тестами все, что начинается с test_\n",
    "\n",
    "Для скипа: \n",
    "```python\n",
    "@pytest.mark.skip(..., reason=\"...\")\n",
    "def test_1():\n",
    "    pass\n",
    "```\n",
    "\n",
    "Для ожидания ошибки: \n",
    "```python\n",
    "@pytest.xfail\n",
    "def test_2():\n",
    "    pass\n",
    "```\n",
    "\n",
    "Для параметризованных тестов:\n",
    "```python\n",
    "@pytest.mark.parametrize(\n",
    "    'a,b,expected',\n",
    "    (\n",
    "        (5, 1, 6),\n",
    "        (6, 6, 12),\n",
    "        ...\n",
    "    )\n",
    ")\n",
    "def test_summarize(a, b, expected):\n",
    "    pass\n",
    "```\n",
    "\n",
    "Здесь метод setUp называется setup_method(self). tearDown - teardown_method(self)"
   ]
  },
  {
   "cell_type": "markdown",
   "metadata": {},
   "source": [
    "# Про покрытие кода тестами\n",
    "\n",
    "Существует плагин:\n",
    "```markdown\n",
    "pip install pytest-cov\n",
    "```\n",
    "\n",
    "Пишем:\n",
    "```markdown\n",
    "python3 -m pytest --cov --cov-report=html\n",
    "```\n",
    "\n",
    "Создается папка, в которой создается страница index.html, показывающая покрытие кода тестами в процентах."
   ]
  }
 ],
 "metadata": {
  "kernelspec": {
   "display_name": ".jupyter_venv",
   "language": "python",
   "name": "python3"
  },
  "language_info": {
   "codemirror_mode": {
    "name": "ipython",
    "version": 3
   },
   "file_extension": ".py",
   "mimetype": "text/x-python",
   "name": "python",
   "nbconvert_exporter": "python",
   "pygments_lexer": "ipython3",
   "version": "3.12.3"
  }
 },
 "nbformat": 4,
 "nbformat_minor": 2
}
