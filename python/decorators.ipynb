{
 "cells": [
  {
   "cell_type": "markdown",
   "metadata": {},
   "source": [
    "# Декораторы\n",
    "\n"
   ]
  },
  {
   "cell_type": "code",
   "execution_count": 3,
   "metadata": {},
   "outputs": [
    {
     "name": "stdout",
     "output_type": "stream",
     "text": [
      "Вызвана функция <built-in function print>, args=(1, 2, 3), kwargs={}\n",
      "1 2 3\n",
      "result=None\n"
     ]
    }
   ],
   "source": [
    "def decorator(old_func):\n",
    "    def new_func(*args, **kwargs):\n",
    "        print(f'Вызвана функция {old_func}, {args=}, {kwargs=}')\n",
    "        result = old_func(*args, **kwargs)\n",
    "        print(f'{result=}')\n",
    "        return result\n",
    "    return new_func\n",
    "\n",
    "decorator(print)(1, 2, 3)"
   ]
  },
  {
   "cell_type": "code",
   "execution_count": null,
   "metadata": {},
   "outputs": [],
   "source": [
    "# шаблон, как устроены все декораторы\n",
    "\n",
    "def decorator(old_func):\n",
    "    def new_func(*args, **kwargs):\n",
    "        # код до вызова функции\n",
    "        result = old_func(*args, **kwargs)\n",
    "        # код после вызова функции\n",
    "        return result\n",
    "    \n",
    "    return new_func"
   ]
  },
  {
   "cell_type": "code",
   "execution_count": 6,
   "metadata": {},
   "outputs": [
    {
     "name": "stdout",
     "output_type": "stream",
     "text": [
      "Время: 0:00:11.611208 с\n",
      "499999999500000000\n"
     ]
    }
   ],
   "source": [
    "from datetime import datetime\n",
    "\n",
    "def timer(old_func):\n",
    "    def new_func(*args, **kwargs):\n",
    "        start = datetime.now()\n",
    "        result = old_func(*args, **kwargs)\n",
    "        print(f'Время: {datetime.now()-start} с')\n",
    "        return result\n",
    "\n",
    "    return new_func\n",
    "\n",
    "sum_timer = timer(sum)\n",
    "print(sum_timer(range(1000000000)))"
   ]
  },
  {
   "cell_type": "code",
   "execution_count": 9,
   "metadata": {},
   "outputs": [
    {
     "name": "stdout",
     "output_type": "stream",
     "text": [
      "Время: 0:00:03.313411 с\n",
      "1000000\n"
     ]
    }
   ],
   "source": [
    "from random import randint\n",
    "\n",
    "@timer\n",
    "def search_max_value(cnt):\n",
    "    max_value = -1\n",
    "    for _ in range(cnt):\n",
    "        value = randint(0, 1_000_000)\n",
    "        if value > max_value:\n",
    "            max_value = value\n",
    "        \n",
    "    return max_value\n",
    "\n",
    "print(search_max_value(10_000_000))"
   ]
  },
  {
   "cell_type": "code",
   "execution_count": 18,
   "metadata": {},
   "outputs": [],
   "source": [
    "import time\n",
    "\n",
    "def attempts(cnt, delay):\n",
    "    def new_func(old_func):\n",
    "        def trying(*args, **kwargs):\n",
    "            e = None\n",
    "            for i in range(cnt):\n",
    "                try:\n",
    "                    result = old_func(*args, **kwargs)\n",
    "                    print(f'Попытка {i+1} - успех')\n",
    "                    return result\n",
    "                except Exception as err:\n",
    "                    print(f'Попытка {i+1} - ошибка')\n",
    "                    time.sleep(delay)\n",
    "                    e = err\n",
    "            raise e    \n",
    "        return trying\n",
    "    return new_func"
   ]
  },
  {
   "cell_type": "code",
   "execution_count": 21,
   "metadata": {},
   "outputs": [
    {
     "ename": "SyntaxError",
     "evalue": "Missing parentheses in call to 'print'. Did you mean print(...)? (2680557609.py, line 9)",
     "output_type": "error",
     "traceback": [
      "\u001b[0;36m  Cell \u001b[0;32mIn[21], line 9\u001b[0;36m\u001b[0m\n\u001b[0;31m    print 2\u001b[0m\n\u001b[0m    ^\u001b[0m\n\u001b[0;31mSyntaxError\u001b[0m\u001b[0;31m:\u001b[0m Missing parentheses in call to 'print'. Did you mean print(...)?\n"
     ]
    }
   ],
   "source": [
    "@attempts(cnt=5, delay=3)\n",
    "def read_file(path):\n",
    "    f = open(path)\n",
    "    print(f.readline().strip())\n",
    "    f.close()\n",
    "\n",
    "read_file('data1.txt')"
   ]
  }
 ],
 "metadata": {
  "kernelspec": {
   "display_name": ".jupyter_venv",
   "language": "python",
   "name": "python3"
  },
  "language_info": {
   "codemirror_mode": {
    "name": "ipython",
    "version": 3
   },
   "file_extension": ".py",
   "mimetype": "text/x-python",
   "name": "python",
   "nbconvert_exporter": "python",
   "pygments_lexer": "ipython3",
   "version": "3.12.3"
  }
 },
 "nbformat": 4,
 "nbformat_minor": 2
}
