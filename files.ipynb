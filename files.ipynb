{
 "cells": [
  {
   "cell_type": "markdown",
   "metadata": {},
   "source": [
    "# Работа с файлами типов CSV , JSON , XML , YMAL"
   ]
  },
  {
   "cell_type": "markdown",
   "metadata": {},
   "source": [
    "### CSV"
   ]
  },
  {
   "cell_type": "code",
   "execution_count": 1,
   "metadata": {},
   "outputs": [],
   "source": [
    "import csv"
   ]
  },
  {
   "cell_type": "code",
   "execution_count": 6,
   "metadata": {},
   "outputs": [
    {
     "name": "stdout",
     "output_type": "stream",
     "text": [
      "['topic1', ' topic2', ' topic3']\n",
      "['value1', ' value2', ' value3']\n",
      "2\n"
     ]
    }
   ],
   "source": [
    "with open(\"files/newsafr.csv\") as file:\n",
    "    reader = csv.reader(file)\n",
    "    count = 0\n",
    "\n",
    "    for row in reader:\n",
    "        print(row)\n",
    "        count += 1\n",
    "    \n",
    "    print(count)"
   ]
  },
  {
   "cell_type": "markdown",
   "metadata": {},
   "source": [
    "При необходимости мы можем загрузить объект reader в список"
   ]
  },
  {
   "cell_type": "code",
   "execution_count": 8,
   "metadata": {},
   "outputs": [
    {
     "name": "stdout",
     "output_type": "stream",
     "text": [
      "2\n",
      " topic3\n",
      " value3\n"
     ]
    }
   ],
   "source": [
    "with open(\"files/newsafr.csv\") as file:\n",
    "    reader = csv.reader(file)\n",
    "    new_list = list(reader)\n",
    "\n",
    "\n",
    "print(len(new_list))\n",
    "for row in new_list:\n",
    "    print(row[-1])"
   ]
  },
  {
   "cell_type": "markdown",
   "metadata": {},
   "source": [
    "Ридеров на самом деле 2! "
   ]
  },
  {
   "cell_type": "code",
   "execution_count": 9,
   "metadata": {},
   "outputs": [
    {
     "name": "stdout",
     "output_type": "stream",
     "text": [
      "<class 'csv.DictReader'>\n"
     ]
    }
   ],
   "source": [
    "with open(\"files/newsafr.csv\") as file:\n",
    "    reader = csv.DictReader(file)\n",
    "    print(type(reader))"
   ]
  },
  {
   "cell_type": "code",
   "execution_count": 10,
   "metadata": {},
   "outputs": [
    {
     "name": "stdout",
     "output_type": "stream",
     "text": [
      "{'topic1': 'value1', ' topic2': ' value2', ' topic3': ' value3'}\n"
     ]
    }
   ],
   "source": [
    "with open(\"files/newsafr.csv\") as file:\n",
    "    reader = csv.DictReader(file)\n",
    "    for row in reader:\n",
    "        print(row)"
   ]
  },
  {
   "cell_type": "markdown",
   "metadata": {},
   "source": [
    "Как эти данные записывать?"
   ]
  },
  {
   "cell_type": "code",
   "execution_count": 34,
   "metadata": {},
   "outputs": [
    {
     "name": "stdout",
     "output_type": "stream",
     "text": [
      "[['topic1', ' topic2', ' topic3'], ['value1', ' value2', ' value3'], ['value11', ' value12', ' value13']]\n"
     ]
    }
   ],
   "source": [
    "with open(\"files/newsafr.csv\") as file:\n",
    "    reader = csv.reader(file)\n",
    "    new_list = list(reader)\n",
    "\n",
    "print(new_list)\n",
    "\n",
    "with open(\"new_file.csv\", \"w\", encoding=\"utf-8\") as file:\n",
    "    writer = csv.writer(file)\n",
    "    writer.writerow(new_list[0])\n",
    "    writer.writerow(new_list[1])"
   ]
  },
  {
   "cell_type": "markdown",
   "metadata": {},
   "source": [
    "### JSON"
   ]
  },
  {
   "cell_type": "code",
   "execution_count": 50,
   "metadata": {},
   "outputs": [],
   "source": [
    "import json\n",
    "from pprint import pprint"
   ]
  },
  {
   "cell_type": "code",
   "execution_count": 51,
   "metadata": {},
   "outputs": [
    {
     "name": "stdout",
     "output_type": "stream",
     "text": [
      "<class 'dict'>\n"
     ]
    }
   ],
   "source": [
    "with open('files/newsafr.json') as file:\n",
    "    my_news = json.load(file)\n",
    "    pprint(type(my_news))"
   ]
  },
  {
   "cell_type": "code",
   "execution_count": 52,
   "metadata": {},
   "outputs": [],
   "source": [
    "with open('json_file.json', 'w') as file:\n",
    "    json.dump(my_news, file, ensure_ascii=False, indent=2)"
   ]
  },
  {
   "cell_type": "code",
   "execution_count": 53,
   "metadata": {},
   "outputs": [
    {
     "name": "stdout",
     "output_type": "stream",
     "text": [
      "{\"lol\": \"вылвфыов\", \"xd\": \"low\"}\n",
      "<class 'str'>\n"
     ]
    }
   ],
   "source": [
    "new_str = json.dumps(my_news, ensure_ascii=False)\n",
    "print(new_str)\n",
    "print(type(new_str))"
   ]
  },
  {
   "cell_type": "markdown",
   "metadata": {},
   "source": [
    "### YAML"
   ]
  },
  {
   "cell_type": "markdown",
   "metadata": {},
   "source": [
    "Работа аналогична как с json. Читать методом safe_load() , а запись: метод safe_dump()"
   ]
  },
  {
   "cell_type": "markdown",
   "metadata": {},
   "source": [
    "### XML"
   ]
  },
  {
   "cell_type": "code",
   "execution_count": 55,
   "metadata": {},
   "outputs": [],
   "source": [
    "import xml.etree.ElementTree as ET"
   ]
  },
  {
   "cell_type": "code",
   "execution_count": 58,
   "metadata": {},
   "outputs": [
    {
     "name": "stdout",
     "output_type": "stream",
     "text": [
      "rss\n"
     ]
    }
   ],
   "source": [
    "parser = ET.XMLParser(encoding='utf-8')\n",
    "tree = ET.parse('files/newsafr.xml', parser)\n",
    "\n",
    "root = tree.getroot()\n",
    "print(root.tag)"
   ]
  },
  {
   "cell_type": "markdown",
   "metadata": {},
   "source": [
    "Чтобы искать в xml можно использовать методы find и findall"
   ]
  },
  {
   "cell_type": "code",
   "execution_count": 64,
   "metadata": {},
   "outputs": [
    {
     "name": "stdout",
     "output_type": "stream",
     "text": [
      "https://vk.com\n",
      "[<Element 'link' at 0x0000022652C10950>]\n"
     ]
    }
   ],
   "source": [
    "el = root.find('channel/link')\n",
    "print(el.text)\n",
    "\n",
    "els = root.findall('channel/link')\n",
    "print(els)"
   ]
  }
 ],
 "metadata": {
  "kernelspec": {
   "display_name": "Python 3",
   "language": "python",
   "name": "python3"
  },
  "language_info": {
   "codemirror_mode": {
    "name": "ipython",
    "version": 3
   },
   "file_extension": ".py",
   "mimetype": "text/x-python",
   "name": "python",
   "nbconvert_exporter": "python",
   "pygments_lexer": "ipython3",
   "version": "3.12.0"
  }
 },
 "nbformat": 4,
 "nbformat_minor": 2
}
